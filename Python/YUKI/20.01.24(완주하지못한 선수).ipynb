{
 "cells": [
  {
   "cell_type": "code",
   "execution_count": 63,
   "metadata": {},
   "outputs": [
    {
     "name": "stdout",
     "output_type": "stream",
     "text": [
      " 0 1 2 3 4\n",
      "5 4 3 2 1 "
     ]
    }
   ],
   "source": [
    "for i in range(5):\n",
    "    print(('{0:2}'.format(i)),end=\"\")\n",
    "print()\n",
    "for i in range(5,0,-1):\n",
    "    print (i,end = \" \")"
   ]
  },
  {
   "cell_type": "code",
   "execution_count": 99,
   "metadata": {},
   "outputs": [],
   "source": [
    "def solution(participant, completion):\n",
    "    \n",
    "    Dict_part = {} \n",
    "    for i in participant:\n",
    "        if not i in Dict_part:\n",
    "            Dict_part[i] = 1\n",
    "        elif  i in Dict_part:\n",
    "            Dict_part[i] += 1\n",
    "    \n",
    "    Dict_comp = {}\n",
    "    for i in completion:\n",
    "        if not i in Dict_comp:\n",
    "            Dict_comp[i] = 1\n",
    "        elif  i in Dict_comp:\n",
    "            Dict_comp[i] += 1\n",
    "    \n",
    "    for key,value in Dict_part.items():\n",
    "        if key not in Dict_comp or value - Dict_comp[key]==1:\n",
    "            \n",
    "            return key"
   ]
  },
  {
   "cell_type": "code",
   "execution_count": 100,
   "metadata": {},
   "outputs": [
    {
     "data": {
      "text/plain": [
       "'leo'"
      ]
     },
     "execution_count": 100,
     "metadata": {},
     "output_type": "execute_result"
    }
   ],
   "source": [
    "solution(['leo','kiki','eden'], ['eden','kiki'])"
   ]
  },
  {
   "cell_type": "code",
   "execution_count": null,
   "metadata": {},
   "outputs": [],
   "source": []
  }
 ],
 "metadata": {
  "kernelspec": {
   "display_name": "Python 3",
   "language": "python",
   "name": "python3"
  },
  "language_info": {
   "codemirror_mode": {
    "name": "ipython",
    "version": 3
   },
   "file_extension": ".py",
   "mimetype": "text/x-python",
   "name": "python",
   "nbconvert_exporter": "python",
   "pygments_lexer": "ipython3",
   "version": "3.7.4"
  }
 },
 "nbformat": 4,
 "nbformat_minor": 2
}
