{
 "cells": [
  {
   "cell_type": "code",
   "execution_count": null,
   "metadata": {},
   "outputs": [],
   "source": [
    "P1 = [1,2,3,4,5]\n",
    "P2 = [2, 1, 2, 3, 2, 4, 2, 5,]\n",
    "P3 = [3, 3, 1, 1, 2, 2, 4, 4, 5, 5]"
   ]
  },
  {
   "cell_type": "markdown",
   "metadata": {},
   "source": [
    "##### List를 str로 받아서 다시 List로 입력하고 int로 변환"
   ]
  },
  {
   "cell_type": "code",
   "execution_count": 3,
   "metadata": {},
   "outputs": [],
   "source": [
    "def solution(answer):\n",
    "    answer = input()[1:-1]\n",
    "    B = answers.split(',')\n",
    "    Answer = [] #정답들을 int로 리스트 만듬\n",
    "    for i in B:\n",
    "        Answer.append(int(i))\n",
    "        pass"
   ]
  },
  {
   "cell_type": "code",
   "execution_count": null,
   "metadata": {},
   "outputs": [],
   "source": [
    "answers = input()[1:-1]\n",
    "B = answers.split(',')\n",
    "Answer = [] #정답들을 int로 리스트 만듬\n",
    "for i in B:\n",
    "    Answer.append(int(i))\n",
    "    pass\n",
    "\n",
    "P1 = [1,2,3,4,5]\n",
    "len_P1 = len(P1)+1 #len_P1 = 6\n",
    "P2 = [2, 1, 2, 3, 2, 4, 2, 5,]\n",
    "len_P2 = len(P2) #len_P1 = 8\n",
    "P3 = [3, 3, 1, 1, 2, 2, 4, 4, 5, 5]\n",
    "len_P3 = len(P3) #len_P1 = 10\n",
    "len_Answer = len(Answer)  #answers를 [1,2,3,4,5]로 입력하면 길이는 5=\n",
    " # 6으로 나눈다\n",
    "count_P1 = 0\n",
    "count_P2 = 0\n",
    "count_P3 = 0\n",
    "\n",
    "for i in range(len_Answer):\n",
    "    \n",
    "    if i> 4: #인덱스가 5가 되면\n",
    "        P1.append(P1[((i+1)%len_P1)])\n",
    "    if Answer[i]==P1[i]:\n",
    "        count_P1 += 1\n",
    "\n",
    "for i in range(len_Answer):\n",
    "    \n",
    "    if i> 7: #인덱스가 5가 되면\n",
    "        P2.append(P2[((i+1)%len_P2)])\n",
    "    if Answer[i]==P2[i]:\n",
    "        count_P2 += 1\n",
    "\n",
    "for i in range(len_Answer):\n",
    "    \n",
    "    if i> 9: #인덱스가 5가 되면\n",
    "        P3.append(P3[((i+1)%len_P3)])\n",
    "    if Answer[i]==P3[i]:\n",
    "        count_P3 += 1\n",
    "       \n",
    "    \n",
    "if count_P1 == len(Answer):\n",
    "    print('수포자 1은 모든 문제를 맞혔습니다.') ### return 필요\n",
    "elif count_P1 == 0:\n",
    "    print('수포자 1은 모든 문제를 틀렸습니다.')\n",
    "if count_P2 == len(Answer):\n",
    "    print('수포자 2은 모든 문제를 맞혔습니다.') ### return 필요\n",
    "elif count_P2 == 0:\n",
    "    print('수포자 2은 모든 문제를 틀렸습니다.')\n",
    "if count_P3 == len(Answer):\n",
    "    print('수포자 3은 모든 문제를 맞혔습니다.') ### return 필요\n",
    "elif count_P3 == 0:\n",
    "    print('수포자 3은 모든 문제를 틀렸습니다.')\n"
   ]
  },
  {
   "cell_type": "code",
   "execution_count": 4,
   "metadata": {
    "scrolled": true
   },
   "outputs": [
    {
     "name": "stdout",
     "output_type": "stream",
     "text": [
      "[1,2,3,4,5]\n"
     ]
    },
    {
     "ename": "NameError",
     "evalue": "name 'answers' is not defined",
     "output_type": "error",
     "traceback": [
      "\u001b[1;31m---------------------------------------------------------------------------\u001b[0m",
      "\u001b[1;31mNameError\u001b[0m                                 Traceback (most recent call last)",
      "\u001b[1;32m<ipython-input-4-c19856f1242f>\u001b[0m in \u001b[0;36m<module>\u001b[1;34m\u001b[0m\n\u001b[1;32m----> 1\u001b[1;33m \u001b[0msolution\u001b[0m\u001b[1;33m(\u001b[0m\u001b[1;33m[\u001b[0m\u001b[1;36m1\u001b[0m\u001b[1;33m,\u001b[0m\u001b[1;36m2\u001b[0m\u001b[1;33m,\u001b[0m\u001b[1;36m3\u001b[0m\u001b[1;33m,\u001b[0m\u001b[1;36m4\u001b[0m\u001b[1;33m,\u001b[0m\u001b[1;36m5\u001b[0m\u001b[1;33m]\u001b[0m\u001b[1;33m)\u001b[0m\u001b[1;33m\u001b[0m\u001b[1;33m\u001b[0m\u001b[0m\n\u001b[0m",
      "\u001b[1;32m<ipython-input-3-6c401415b42e>\u001b[0m in \u001b[0;36msolution\u001b[1;34m(answer)\u001b[0m\n\u001b[0;32m      1\u001b[0m \u001b[1;32mdef\u001b[0m \u001b[0msolution\u001b[0m\u001b[1;33m(\u001b[0m\u001b[0manswer\u001b[0m\u001b[1;33m)\u001b[0m\u001b[1;33m:\u001b[0m\u001b[1;33m\u001b[0m\u001b[1;33m\u001b[0m\u001b[0m\n\u001b[0;32m      2\u001b[0m     \u001b[0manswer\u001b[0m \u001b[1;33m=\u001b[0m \u001b[0minput\u001b[0m\u001b[1;33m(\u001b[0m\u001b[1;33m)\u001b[0m\u001b[1;33m[\u001b[0m\u001b[1;36m1\u001b[0m\u001b[1;33m:\u001b[0m\u001b[1;33m-\u001b[0m\u001b[1;36m1\u001b[0m\u001b[1;33m]\u001b[0m\u001b[1;33m\u001b[0m\u001b[1;33m\u001b[0m\u001b[0m\n\u001b[1;32m----> 3\u001b[1;33m     \u001b[0mB\u001b[0m \u001b[1;33m=\u001b[0m \u001b[0manswers\u001b[0m\u001b[1;33m.\u001b[0m\u001b[0msplit\u001b[0m\u001b[1;33m(\u001b[0m\u001b[1;34m','\u001b[0m\u001b[1;33m)\u001b[0m\u001b[1;33m\u001b[0m\u001b[1;33m\u001b[0m\u001b[0m\n\u001b[0m\u001b[0;32m      4\u001b[0m     \u001b[0mAnswer\u001b[0m \u001b[1;33m=\u001b[0m \u001b[1;33m[\u001b[0m\u001b[1;33m]\u001b[0m \u001b[1;31m#정답들을 int로 리스트 만듬\u001b[0m\u001b[1;33m\u001b[0m\u001b[1;33m\u001b[0m\u001b[0m\n\u001b[0;32m      5\u001b[0m     \u001b[1;32mfor\u001b[0m \u001b[0mi\u001b[0m \u001b[1;32min\u001b[0m \u001b[0mB\u001b[0m\u001b[1;33m:\u001b[0m\u001b[1;33m\u001b[0m\u001b[1;33m\u001b[0m\u001b[0m\n",
      "\u001b[1;31mNameError\u001b[0m: name 'answers' is not defined"
     ]
    }
   ],
   "source": [
    "solution([1,2,3,4,5])"
   ]
  },
  {
   "cell_type": "code",
   "execution_count": 21,
   "metadata": {},
   "outputs": [],
   "source": [
    "    def solution(answer):\n",
    "\n",
    "\n",
    "        P1 = [1,2,3,4,5]\n",
    "        len_P1 = len(P1) #len_P1 = 6\n",
    "        P2 = [2, 1, 2, 3, 2, 4, 2, 5]\n",
    "        len_P2 = len(P2) #len_P2 = 9\n",
    "        P3 = [3, 3, 1, 1, 2, 2, 4, 4, 5, 5]\n",
    "        len_P3 = len(P3) #len_P1 = 11\n",
    "        len_answer = len(answer)  #answers를 [1,2,3,4,5]로 입력하면 길이는 5=\n",
    "         # 6으로 나눈다\n",
    "        count_P1 = 0\n",
    "        count_P2 = 0\n",
    "        count_P3 = 0\n",
    "\n",
    "        for i in range(len_answer):\n",
    "\n",
    "            if i> 4: #인덱스가 5가 되면\n",
    "                P1.append(P1[((i)%len_P1)])\n",
    "            if answer[i]==P1[i]:\n",
    "                count_P1 += 1\n",
    "\n",
    "        for i in range(len_answer):\n",
    "\n",
    "            if i> 7: #인덱스가 8가 되면\n",
    "                P2.append(P2[((i)%len_P2)])\n",
    "            if answer[i]==P2[i]:\n",
    "                count_P2 += 1\n",
    "\n",
    "        for i in range(len_answer):\n",
    "\n",
    "            if i> 9: #인덱스가 10가 되면\n",
    "                P3.append(P3[((i)%len_P3)])\n",
    "            if answer[i]==P3[i]:\n",
    "                count_P3 += 1\n",
    "\n",
    "        print(count_P1,P2,count_P3)\n",
    "        if count_P1>count_P2 and count_P1>count_P3:\n",
    "            return [1]\n",
    "        elif count_P2>count_P3 and count_P2>count_P1:\n",
    "            return [2]\n",
    "        elif count_P3>count_P1 and count_P3>count_P2:\n",
    "            return [3]\n",
    "        elif count_P3==count_P1 and count_P3>count_P2:\n",
    "            return [1,3]\n",
    "        elif count_P3==count_P2 and count_P3>count_P1:\n",
    "            return [2,3]\n",
    "        elif count_P2==count_P1 and count_P2>count_P3:\n",
    "            return [1,2]\n",
    "        elif count_P2==count_P1==count_P3:\n",
    "            return [1,2,3]\n",
    "\n"
   ]
  },
  {
   "cell_type": "code",
   "execution_count": 22,
   "metadata": {
    "scrolled": true
   },
   "outputs": [
    {
     "name": "stdout",
     "output_type": "stream",
     "text": [
      "8 [2, 1, 2, 3, 2, 4, 2, 5, 2, 1, 2, 3, 2, 4, 2, 5, 2, 1, 2, 3, 2, 4, 2, 5, 2, 1, 2, 3, 2, 4, 2, 5, 2, 1, 2, 3, 2, 4, 2, 5] 8\n"
     ]
    },
    {
     "data": {
      "text/plain": [
       "[2]"
      ]
     },
     "execution_count": 22,
     "metadata": {},
     "output_type": "execute_result"
    }
   ],
   "source": [
    "solution([2, 1, 2, 3, 2, 4, 2, 5,2, 1, 2, 3, 2, 4, 2, 5,2, 1, 2, 3, 2, 4, 2, 5,2, 1, 2, 3, 2, 4, 2, 5,2, 1, 2, 3, 2, 4, 2, 5])"
   ]
  },
  {
   "cell_type": "code",
   "execution_count": 20,
   "metadata": {
    "scrolled": true
   },
   "outputs": [
    {
     "name": "stdout",
     "output_type": "stream",
     "text": [
      "[1, 2, 3, 4, 5, 1, 2, 3, 4, 5, 1, 2, 3, 4, 5, 1, 2, 3, 4, 5, 1, 2, 3, 4, 5, 1, 2, 3, 4, 5, 1, 2, 3, 4, 5, 1, 2, 3, 4, 5] 6 1\n"
     ]
    },
    {
     "data": {
      "text/plain": [
       "[1]"
      ]
     },
     "execution_count": 20,
     "metadata": {},
     "output_type": "execute_result"
    }
   ],
   "source": [
    "solution([1,2,3,4,5,1,2,3,4,5,1,2,3,4,5,1,2,3,4,5,1,2,3,4,5,1,2,3,4,5,1,2,3,4,5,1,2,3,4,5])"
   ]
  },
  {
   "cell_type": "code",
   "execution_count": null,
   "metadata": {},
   "outputs": [],
   "source": []
  }
 ],
 "metadata": {
  "kernelspec": {
   "display_name": "Python 3",
   "language": "python",
   "name": "python3"
  },
  "language_info": {
   "codemirror_mode": {
    "name": "ipython",
    "version": 3
   },
   "file_extension": ".py",
   "mimetype": "text/x-python",
   "name": "python",
   "nbconvert_exporter": "python",
   "pygments_lexer": "ipython3",
   "version": "3.7.4"
  }
 },
 "nbformat": 4,
 "nbformat_minor": 2
}
