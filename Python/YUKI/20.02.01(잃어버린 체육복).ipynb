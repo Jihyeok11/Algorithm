{
 "cells": [
  {
   "cell_type": "markdown",
   "metadata": {},
   "source": [
    "https://programmers.co.kr/learn/courses/30/lessons/42862"
   ]
  },
  {
   "cell_type": "code",
   "execution_count": 67,
   "metadata": {},
   "outputs": [],
   "source": [
    "def solution(n, lost, reserve):\n",
    "    List = [1]*n\n",
    "    for i in range(len(reserve)):\n",
    "        List[reserve[i]-1] += 1\n",
    "    for i in range(len(lost)):\n",
    "        List[lost[i]-1] -= 1\n",
    "\n",
    "    for i in range(len(List)):\n",
    "        if i==0:\n",
    "            if List[1]==2:\n",
    "                List[0]=1\n",
    "                List[1]=2\n",
    "                \n",
    "        elif i==len(List)-1:\n",
    "            if List[len(List)-2]==2:\n",
    "                List[len(List)-2]=1\n",
    "                List[len(List)-1]=1\n",
    "        else:\n",
    "            if List[i]==0:\n",
    "                if List[i-1]==2:\n",
    "                    List[i-1]=1\n",
    "                    List[i]=1\n",
    "                elif List[i+1]==2:\n",
    "                    List[i+1]=1\n",
    "                    List[i]=1\n",
    "    answer = List.count(1)\n",
    "    answer += List.count(2)\n",
    "        \n",
    "    return answer"
   ]
  },
  {
   "cell_type": "code",
   "execution_count": 68,
   "metadata": {},
   "outputs": [
    {
     "name": "stdout",
     "output_type": "stream",
     "text": [
      "[1, 1, 1, 1, 2]\n"
     ]
    },
    {
     "data": {
      "text/plain": [
       "5"
      ]
     },
     "execution_count": 68,
     "metadata": {},
     "output_type": "execute_result"
    }
   ],
   "source": [
    "solution(5, [2, 4], [1, 3, 5])"
   ]
  },
  {
   "cell_type": "code",
   "execution_count": null,
   "metadata": {},
   "outputs": [],
   "source": []
  },
  {
   "cell_type": "code",
   "execution_count": null,
   "metadata": {},
   "outputs": [],
   "source": []
  }
 ],
 "metadata": {
  "kernelspec": {
   "display_name": "Python 3",
   "language": "python",
   "name": "python3"
  },
  "language_info": {
   "codemirror_mode": {
    "name": "ipython",
    "version": 3
   },
   "file_extension": ".py",
   "mimetype": "text/x-python",
   "name": "python",
   "nbconvert_exporter": "python",
   "pygments_lexer": "ipython3",
   "version": "3.7.4"
  }
 },
 "nbformat": 4,
 "nbformat_minor": 2
}
