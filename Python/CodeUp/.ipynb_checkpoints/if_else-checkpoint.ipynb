{
 "cells": [
  {
   "cell_type": "code",
   "execution_count": null,
   "metadata": {},
   "outputs": [],
   "source": [
    "List = list(map(int,input().split()))\n",
    "for i in List:\n",
    "    if not i%2:\n",
    "        print(i)"
   ]
  },
  {
   "cell_type": "code",
   "execution_count": null,
   "metadata": {},
   "outputs": [],
   "source": [
    "List = list(map(int, input().split()))\n",
    "for i in List:\n",
    "    if i%2:\n",
    "        print('odd')\n",
    "    else:\n",
    "        print('even')"
   ]
  },
  {
   "cell_type": "code",
   "execution_count": null,
   "metadata": {},
   "outputs": [],
   "source": [
    "N = int(input())\n",
    "if N >= 0:\n",
    "    print('plus')\n",
    "else :\n",
    "    print('minus')\n",
    "if N%2:\n",
    "    print('odd')\n",
    "else:\n",
    "    print('even')"
   ]
  },
  {
   "cell_type": "code",
   "execution_count": null,
   "metadata": {},
   "outputs": [],
   "source": [
    "N = int(input())\n",
    "if N>=90:\n",
    "    print('A')\n",
    "elif N>=70:\n",
    "    print('B')\n",
    "elif N>=40:\n",
    "    print('C')\n",
    "elif N>=0:\n",
    "    print('D')"
   ]
  },
  {
   "cell_type": "code",
   "execution_count": null,
   "metadata": {},
   "outputs": [],
   "source": [
    "Str = input()\n",
    "if Str =='A':\n",
    "    print('best!!!')\n",
    "elif Str == 'B':\n",
    "    print('good!!')\n",
    "elif Str == 'C':\n",
    "    print('run!')\n",
    "elif Str == 'D':\n",
    "    print('slowly~')\n",
    "else:\n",
    "    print('what?')"
   ]
  },
  {
   "cell_type": "code",
   "execution_count": null,
   "metadata": {},
   "outputs": [],
   "source": [
    "N = int(input())\n",
    "if N ==9 or N==10 or N==11:\n",
    "    print('fall')\n",
    "elif N == 3 or N==4 or N==5:\n",
    "    print('spring')\n",
    "elif N == 6 or N == 7 or N == 8:\n",
    "    print('summer')\n",
    "else:\n",
    "    print('winter')"
   ]
  },
  {
   "cell_type": "code",
   "execution_count": null,
   "metadata": {},
   "outputs": [],
   "source": [
    "N = int(input())\n",
    "if N >= 10:\n",
    "    pass\n",
    "else :\n",
    "    print('small')"
   ]
  },
  {
   "cell_type": "code",
   "execution_count": null,
   "metadata": {
    "scrolled": true
   },
   "outputs": [],
   "source": [
    "N = int(input())\n",
    "if N >= 10:\n",
    "    print('big')\n",
    "else :\n",
    "    print('small')"
   ]
  },
  {
   "cell_type": "code",
   "execution_count": null,
   "metadata": {},
   "outputs": [],
   "source": [
    "A,B = map(int, input().split())\n",
    "\n",
    "if A>B:\n",
    "    print('>')\n",
    "elif A<B:\n",
    "    print('<')\n",
    "else :\n",
    "    print('=')"
   ]
  },
  {
   "cell_type": "code",
   "execution_count": null,
   "metadata": {},
   "outputs": [],
   "source": [
    "A,B = map(int, input().split())\n",
    "print(abs(A-B))"
   ]
  },
  {
   "cell_type": "code",
   "execution_count": null,
   "metadata": {},
   "outputs": [],
   "source": [
    "N = int(input())\n",
    "if N%7:\n",
    "    print('not multiple')\n",
    "else:\n",
    "    print('multiple')"
   ]
  },
  {
   "cell_type": "code",
   "execution_count": null,
   "metadata": {},
   "outputs": [],
   "source": [
    "i = int(input())\n",
    "\n",
    "if i%2:\n",
    "    print('odd')\n",
    "else:\n",
    "    print('even')"
   ]
  },
  {
   "cell_type": "code",
   "execution_count": null,
   "metadata": {},
   "outputs": [],
   "source": [
    "N = float(input())\n",
    "if 50 <= N <=60:\n",
    "    print('win')\n",
    "else :\n",
    "    print('lose')"
   ]
  },
  {
   "cell_type": "code",
   "execution_count": null,
   "metadata": {},
   "outputs": [],
   "source": [
    "N = float(input())\n",
    "if not N%6:\n",
    "    print('win')\n",
    "elif 50 <= N <=70:\n",
    "    print('win')\n",
    "else :\n",
    "    print('lose')"
   ]
  },
  {
   "cell_type": "code",
   "execution_count": null,
   "metadata": {
    "scrolled": true
   },
   "outputs": [],
   "source": [
    "N = int(input())\n",
    "if N%2:\n",
    "    print('oh my god')\n",
    "else : \n",
    "    print('enjoy')"
   ]
  },
  {
   "cell_type": "code",
   "execution_count": null,
   "metadata": {
    "scrolled": true
   },
   "outputs": [],
   "source": [
    "import io, sys\n",
    "sys.stdout = io.TextIOWrapper(sys.stdout.buffer, encoding='utf8')\n",
    "\n",
    "A,B = map(int,input().split())\n",
    "C = A+B\n",
    "if A%2:\n",
    "    print(\"홀수\",end=\"\")\n",
    "else :\n",
    "    print(\"짝수\",end=\"\")\n",
    "print(\"+\",end=\"\")\n",
    "if B%2:\n",
    "    print(\"홀수\",end=\"\")\n",
    "else :\n",
    "    print(\"짝수\",end=\"\")\n",
    "print(\"=\",end=\"\")\n",
    "if C%2:\n",
    "    print(\"홀수\")\n",
    "else :\n",
    "    print(\"짝수\")"
   ]
  },
  {
   "cell_type": "code",
   "execution_count": null,
   "metadata": {},
   "outputs": [],
   "source": [
    "# import io, sys\n",
    "# sys.stdout = io.TextIOWrapper(sys.stdout.buffer, encoding='utf8')\n",
    "\n",
    "A,B,C = map(int,input().split())\n",
    "if (A-B+C)%10:\n",
    "    print('그럭저럭')\n",
    "else :\n",
    "    print('대박')"
   ]
  },
  {
   "cell_type": "code",
   "execution_count": null,
   "metadata": {},
   "outputs": [],
   "source": [
    "# import io, sys\n",
    "# sys.stdout = io.TextIOWrapper(sys.stdout.buffer, encoding='utf8')\n",
    "\n",
    "A,B,C = map(int,input().split())\n",
    "if ((A+B+C)//100)%2:\n",
    "    print('그럭저럭')\n",
    "else :\n",
    "    print('대박')"
   ]
  },
  {
   "cell_type": "code",
   "execution_count": null,
   "metadata": {},
   "outputs": [],
   "source": [
    "A,B,C = map(int, input().split())\n",
    "if A<=170 or B<=170 or C<=170:\n",
    "    print('CRASH')\n",
    "else :\n",
    "    print('PASS')"
   ]
  },
  {
   "cell_type": "code",
   "execution_count": null,
   "metadata": {},
   "outputs": [],
   "source": [
    "A,B = map(int, input().split())\n",
    "if A<90:\n",
    "    C = (89-A)//5\n",
    "C = C+B+1\n",
    "print(C)"
   ]
  },
  {
   "cell_type": "code",
   "execution_count": null,
   "metadata": {},
   "outputs": [],
   "source": [
    "N = int(input())\n",
    "\n",
    "if not N%400:\n",
    "    print(\"윤년\")\n",
    "elif not N%100:\n",
    "    print(\"no\")\n",
    "elif not N%4:\n",
    "    print(\"yes\")\n",
    "else :\n",
    "    print(\"no\")"
   ]
  },
  {
   "cell_type": "code",
   "execution_count": null,
   "metadata": {},
   "outputs": [],
   "source": [
    "A,B,C = map(int,input().split())\n",
    "if A>=B>=C:\n",
    "    print(B)\n",
    "elif B>=A>=C:\n",
    "    print(A)\n",
    "elif A>=C>=B:\n",
    "    print(C)\n",
    "elif C>=B>=A:\n",
    "    print(B)\n",
    "elif C>=A>=B:\n",
    "    print(A)\n",
    "else :\n",
    "    print(C)"
   ]
  },
  {
   "cell_type": "code",
   "execution_count": null,
   "metadata": {},
   "outputs": [],
   "source": [
    "A,B = map(int,input().split())\n",
    "if B==1 or B==2:\n",
    "    print(13+(100)-A//10000)\n",
    "if B==3 or B ==4:\n",
    "    print(13-A//10000)"
   ]
  },
  {
   "cell_type": "code",
   "execution_count": null,
   "metadata": {},
   "outputs": [],
   "source": [
    "N = int(input())\n",
    "if N>13:\n",
    "    A = 113-N\n",
    "    print(A,end=' ')\n",
    "    print(1)\n",
    "else :\n",
    "    print(13-N,end=' ')\n",
    "    print(3)"
   ]
  },
  {
   "cell_type": "code",
   "execution_count": null,
   "metadata": {},
   "outputs": [],
   "source": [
    "A,B,C = map(str, input().split())\n",
    "if int(C)<10:\n",
    "    print(A+B+'0'+C)\n",
    "else :\n",
    "    print(A+B+C)"
   ]
  },
  {
   "cell_type": "code",
   "execution_count": null,
   "metadata": {},
   "outputs": [],
   "source": [
    "A,B,C = map(str, input().split())\n",
    "print(A,end='')\n",
    "if int(B)<10:\n",
    "    print('0'+B,end='')\n",
    "else:\n",
    "    print(B,end='')\n",
    "if int(C)>=100:\n",
    "    print(C)\n",
    "elif int(C)>=10:\n",
    "    print(\"0\"+C)\n",
    "else:\n",
    "    print(\"00\"+C)\n"
   ]
  },
  {
   "cell_type": "code",
   "execution_count": null,
   "metadata": {},
   "outputs": [],
   "source": [
    "A,B,C = map(int,input().split())\n",
    "if A>=B>=C:\n",
    "    print(\"{} {} {}\".format(C,B,A))\n",
    "elif B>=A>=C:\n",
    "    print(\"{} {} {}\".format(C,A,B))\n",
    "elif A>=C>=B:\n",
    "    print(\"{} {} {}\".format(B,C,A))\n",
    "elif C>=B>=A:\n",
    "    print(\"{} {} {}\".format(A,B,C))\n",
    "elif C>=A>=B:\n",
    "    print(\"{} {} {}\".format(B,A,C))\n",
    "else :\n",
    "    print(\"{} {} {}\".format(A,C,B))"
   ]
  },
  {
   "cell_type": "code",
   "execution_count": null,
   "metadata": {},
   "outputs": [],
   "source": [
    "12 35"
   ]
  },
  {
   "cell_type": "code",
   "execution_count": null,
   "metadata": {},
   "outputs": [],
   "source": [
    "A,B = map(int,input().split())\n",
    "if B>=30:\n",
    "    B -=30\n",
    "else:\n",
    "    B += 30\n",
    "    A -= 1\n",
    "    if A<0:\n",
    "        A +=24\n",
    "print(\"{0} {1}\".format(A,B))"
   ]
  },
  {
   "cell_type": "code",
   "execution_count": null,
   "metadata": {},
   "outputs": [],
   "source": [
    "A = input()\n",
    "if len(A)>1:\n",
    "    B = int(A[0])\n",
    "    C = int(A[1])\n",
    "    D = (((10*C+B)*2)%100)\n",
    "    print(D)\n",
    "    if D <=50:\n",
    "        print('GOOD')\n",
    "    else :\n",
    "        print('OH MY GOD')\n",
    "else:\n",
    "    print(int(A)*2)\n",
    "    print('GOOD')"
   ]
  },
  {
   "cell_type": "code",
   "execution_count": null,
   "metadata": {},
   "outputs": [],
   "source": [
    "N = int(input())\n",
    "if N>0:\n",
    "    print(\"양수\")\n",
    "elif N<0:\n",
    "    print('음수')\n",
    "else :\n",
    "    print(0)"
   ]
  },
  {
   "cell_type": "code",
   "execution_count": null,
   "metadata": {},
   "outputs": [],
   "source": [
    "N = int(input())\n",
    "if N>=90:\n",
    "    print('A')\n",
    "elif N>=80:\n",
    "    print('B')\n",
    "elif N>=70:\n",
    "    print('C')\n",
    "elif N>=60:\n",
    "    print('D')\n",
    "else:\n",
    "    print('F')"
   ]
  },
  {
   "cell_type": "code",
   "execution_count": null,
   "metadata": {},
   "outputs": [],
   "source": [
    "N = int(input())\n",
    "if N>20:\n",
    "    print('비만')\n",
    "elif N>10:\n",
    "    print('과체중')\n",
    "else:\n",
    "    print('정상')"
   ]
  },
  {
   "cell_type": "code",
   "execution_count": null,
   "metadata": {},
   "outputs": [],
   "source": [
    "N = int(input())\n",
    "if N==11:\n",
    "    print('11th')\n",
    "elif N==12:\n",
    "    print('12th')\n",
    "elif N==13:\n",
    "    print('13th')\n",
    "\n",
    "elif N%10==1:\n",
    "    print(str(N)+'st')\n",
    "elif N%10==2:\n",
    "    print(str(N)+'nd')\n",
    "elif N%10==3:\n",
    "    print(str(N)+'rd')\n",
    "else :\n",
    "    print(str(N)+'th')"
   ]
  },
  {
   "cell_type": "code",
   "execution_count": null,
   "metadata": {},
   "outputs": [],
   "source": [
    "a,b = map(int,input().split())\n",
    "List =[]\n",
    "List.append(a+b)\n",
    "List.append(a-b)\n",
    "List.append(a*b)\n",
    "List.append(b-a)\n",
    "List.append(a/b)\n",
    "List.append(b/a)\n",
    "List.append(a**b)\n",
    "List.append(b**a)\n",
    "A = max(List)\n",
    "print(\"{0:6f}\".format(A))"
   ]
  },
  {
   "cell_type": "code",
   "execution_count": null,
   "metadata": {},
   "outputs": [],
   "source": [
    "a,b = map(int,input().split())\n",
    "if not a%b:\n",
    "    print('{0}*{1}={2}'.format(b,a//b,a))\n",
    "elif not b%a:\n",
    "    print('{0}*{1}={2}'.format(a,b//a,b))\n",
    "else:\n",
    "    print('none')"
   ]
  },
  {
   "cell_type": "code",
   "execution_count": 2,
   "metadata": {},
   "outputs": [
    {
     "name": "stdout",
     "output_type": "stream",
     "text": [
      "0 0 1 0\n",
      "도\n"
     ]
    }
   ],
   "source": [
    "List = list(map(int,input().split()))\n",
    "Sum = sum(List)\n",
    "if Sum ==4:\n",
    "    print('윷')\n",
    "elif Sum ==3:\n",
    "    print('걸')\n",
    "elif Sum ==2:\n",
    "    print('개')\n",
    "elif Sum ==1:\n",
    "    print('도')\n",
    "elif Sum ==0:\n",
    "    print('모')"
   ]
  },
  {
   "cell_type": "code",
   "execution_count": 3,
   "metadata": {},
   "outputs": [
    {
     "name": "stdout",
     "output_type": "stream",
     "text": [
      "1 2\n",
      "angry\n"
     ]
    }
   ],
   "source": [
    "List = [0,400,340,170,100,70]\n",
    "Select1, Select2 = map(int,input().split())\n",
    "\n",
    "if List[Select1] + List[Select2] >500:\n",
    "    print('angry')\n",
    "else :\n",
    "    print('no angry')"
   ]
  },
  {
   "cell_type": "code",
   "execution_count": 5,
   "metadata": {},
   "outputs": [
    {
     "name": "stdout",
     "output_type": "stream",
     "text": [
      "2 3 4\n",
      "yes\n"
     ]
    }
   ],
   "source": [
    "List = list(map(int, input().split()))\n",
    "if max(List) < sum(List) - max(List):\n",
    "    print('yes')\n",
    "else:\n",
    "    print('no')"
   ]
  },
  {
   "cell_type": "code",
   "execution_count": 6,
   "metadata": {},
   "outputs": [
    {
     "name": "stdout",
     "output_type": "stream",
     "text": [
      "2009 10\n",
      "31\n"
     ]
    }
   ],
   "source": [
    "A,B = map(int,input().split())\n",
    "List = [31,28,31,30,31,30,31,31,30,31,30,31]\n",
    "if not A%400:\n",
    "    List[1] =29\n",
    "elif not A%100:\n",
    "    pass\n",
    "elif not A%4:\n",
    "    List[1] = 29\n",
    "else :\n",
    "    pass\n",
    "print(List[B-1])"
   ]
  },
  {
   "cell_type": "code",
   "execution_count": 7,
   "metadata": {},
   "outputs": [
    {
     "name": "stdout",
     "output_type": "stream",
     "text": [
      "10 100 70\n",
      "advertise\n"
     ]
    }
   ],
   "source": [
    "A,B,C = map(int, input().split())\n",
    "if B-C > A:\n",
    "    print('advertise')\n",
    "elif A>B-C :\n",
    "    print('no advertise')\n",
    "else:\n",
    "    print('does not matter')"
   ]
  },
  {
   "cell_type": "code",
   "execution_count": 13,
   "metadata": {},
   "outputs": [
    {
     "name": "stdout",
     "output_type": "stream",
     "text": [
      "3 3 3\n",
      "정삼각형\n"
     ]
    }
   ],
   "source": [
    "A,B,C = map(int,input().split())\n",
    "if 2* max(A,B,C) < A+B+C:\n",
    "    if A==B==C:\n",
    "        print('정삼각형')\n",
    "    elif 2*(max(A,B,C)**2) == A**2 + B**2 + C**2:\n",
    "        print('직각삼각형')\n",
    "    elif A==B or B==C or C==A:\n",
    "        print('이등변삼각형')\n",
    "    else:\n",
    "        print('삼각형')\n",
    "else:\n",
    "    print('삼각형아님')"
   ]
  },
  {
   "cell_type": "code",
   "execution_count": 17,
   "metadata": {},
   "outputs": [
    {
     "name": "stdout",
     "output_type": "stream",
     "text": [
      "80 5 7\n",
      "same\n"
     ]
    }
   ],
   "source": [
    "A,B,C = map(int,input().split())\n",
    "if A<90:\n",
    "    B += ((89-A)//5)+1\n",
    "    if B>C:\n",
    "        print('win')\n",
    "    elif B<C:\n",
    "        print('lose')\n",
    "    else:\n",
    "        print('same')"
   ]
  },
  {
   "cell_type": "code",
   "execution_count": 16,
   "metadata": {},
   "outputs": [
    {
     "data": {
      "text/plain": [
       "2"
      ]
     },
     "execution_count": 16,
     "metadata": {},
     "output_type": "execute_result"
    }
   ],
   "source": [
    "9//5+1"
   ]
  },
  {
   "cell_type": "code",
   "execution_count": 18,
   "metadata": {},
   "outputs": [
    {
     "name": "stdout",
     "output_type": "stream",
     "text": [
      "1 2 3 4\n",
      "<\n"
     ]
    }
   ],
   "source": [
    "a,b,c,d = map(int,input().split())\n",
    "if a/b > c/d:\n",
    "    print('>')\n",
    "elif a/b < c/d:\n",
    "    print('<')\n",
    "else:\n",
    "    print('=')"
   ]
  },
  {
   "cell_type": "code",
   "execution_count": 44,
   "metadata": {},
   "outputs": [
    {
     "name": "stdout",
     "output_type": "stream",
     "text": [
      "1 5 9 14 15 16 7\n",
      "1 5 7 9 14 15\n",
      "2\n"
     ]
    }
   ],
   "source": [
    "List1 = list(map(int,input().split()))\n",
    "List2 = list(map(int,input().split()))\n",
    "if len(set(List1[:-1])&(set(List2))) ==6:\n",
    "    print('1')\n",
    "elif (len(set(List1[:-1])&set(List2))) ==5 and List1[-1] in List2:\n",
    "    print('2')\n",
    "elif len(set(List1[:-1])&(set(List2))) ==5:\n",
    "    print('3')\n",
    "elif len(set(List1[:-1])&(set(List2))) ==4:\n",
    "    print('4')\n",
    "elif len(set(List1[:-1])&(set(List2))) ==3:\n",
    "    print('5')\n",
    "else :\n",
    "    print('0')"
   ]
  },
  {
   "cell_type": "code",
   "execution_count": 43,
   "metadata": {},
   "outputs": [
    {
     "name": "stdout",
     "output_type": "stream",
     "text": [
      "5\n"
     ]
    }
   ],
   "source": [
    "List1 = [1,2,3,4,5]\n",
    "List2 = [3,4,5,6,7]\n",
    "print(List1[-1])\n"
   ]
  },
  {
   "cell_type": "code",
   "execution_count": 35,
   "metadata": {},
   "outputs": [
    {
     "name": "stdout",
     "output_type": "stream",
     "text": [
      "13 23 24 35 40 45 7\n",
      "2 6 7 23 40 44\n",
      "[1, 2, 3, 4, 5]\n",
      "[2, 6, 7, 23, 40, 44]\n"
     ]
    }
   ],
   "source": [
    "LIst1 = list(map(int,input().split()))\n",
    "List2 = list(map(int,input().split()))\n",
    "print(List1)\n",
    "print(List2)"
   ]
  },
  {
   "cell_type": "code",
   "execution_count": 46,
   "metadata": {},
   "outputs": [
    {
     "name": "stdout",
     "output_type": "stream",
     "text": [
      "170.0 80.0\n",
      "비만\n"
     ]
    }
   ],
   "source": [
    "A,B = map(float ,input().split())\n",
    "weight = (A-100)*0.9\n",
    "obesity = (B-weight)*100/weight\n",
    "\n",
    "if obesity>20:\n",
    "    print('비만')\n",
    "elif obesity>10:\n",
    "    print('과체중')\n",
    "else :\n",
    "    print('정상')"
   ]
  },
  {
   "cell_type": "code",
   "execution_count": 48,
   "metadata": {},
   "outputs": [
    {
     "name": "stdout",
     "output_type": "stream",
     "text": [
      "150 60\n",
      "과체중\n"
     ]
    }
   ],
   "source": [
    "A,B = map(float ,input().split())\n",
    "if weight>=160:\n",
    "    weight = (A-100)*0.9\n",
    "elif 150<=weight<160:\n",
    "    weight = (A-150)/2 + 50\n",
    "else :\n",
    "    weight = A-100\n",
    "obesity = (B-weight)*100/weight\n",
    "\n",
    "if obesity>20:\n",
    "    print('비만')\n",
    "elif obesity>10:\n",
    "    print('과체중')\n",
    "else :\n",
    "    print('정상')"
   ]
  },
  {
   "cell_type": "code",
   "execution_count": 49,
   "metadata": {},
   "outputs": [
    {
     "name": "stdout",
     "output_type": "stream",
     "text": [
      "171 168 165\n",
      "CRASH 168\n"
     ]
    }
   ],
   "source": [
    "A,B,C = map(int,input().split())\n",
    "if A<=170:\n",
    "    print(\"CRASH {}\".format(A))\n",
    "elif B<=170:\n",
    "    print(\"CRASH {}\".format(B))\n",
    "elif C<=170:\n",
    "    print(\"CRASH {}\".format(C))\n",
    "else:\n",
    "    print(\"PASS\")\n",
    "        \n",
    "    "
   ]
  },
  {
   "cell_type": "code",
   "execution_count": 68,
   "metadata": {},
   "outputs": [
    {
     "name": "stdout",
     "output_type": "stream",
     "text": [
      "10/20\n",
      "0.50\n"
     ]
    }
   ],
   "source": [
    "Str = input()\n",
    "i =0\n",
    "while True:\n",
    "    i +=1\n",
    "    if Str[i]=='+' or Str[i]=='-' or Str[i]=='*' or Str[i]=='/':\n",
    "        break\n",
    "A = int(Str[:i])\n",
    "B = Str[i]\n",
    "C = int(Str[i+1:])\n",
    "if B=='+':\n",
    "    print(A+C)\n",
    "elif B=='-':\n",
    "    print(A-C)\n",
    "elif B=='*':\n",
    "    print(A*C)\n",
    "elif B=='/':\n",
    "    print(\"{0:0.2f}\".format(A/C))"
   ]
  },
  {
   "cell_type": "code",
   "execution_count": null,
   "metadata": {},
   "outputs": [],
   "source": []
  }
 ],
 "metadata": {
  "kernelspec": {
   "display_name": "Python 3",
   "language": "python",
   "name": "python3"
  },
  "language_info": {
   "codemirror_mode": {
    "name": "ipython",
    "version": 3
   },
   "file_extension": ".py",
   "mimetype": "text/x-python",
   "name": "python",
   "nbconvert_exporter": "python",
   "pygments_lexer": "ipython3",
   "version": "3.7.4"
  }
 },
 "nbformat": 4,
 "nbformat_minor": 2
}
