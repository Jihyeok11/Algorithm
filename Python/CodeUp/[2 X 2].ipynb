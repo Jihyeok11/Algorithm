{
 "cells": [
  {
   "cell_type": "code",
   "execution_count": 6,
   "metadata": {},
   "outputs": [
    {
     "name": "stdout",
     "output_type": "stream",
     "text": [
      "5 5\n",
      "3\n",
      "2 0 1 1\n",
      "1 1 0 0 0\n",
      "0 0 0 0 0\n",
      "0 0 0 0 0\n",
      "0 0 0 0 0\n",
      "0 0 0 0 0\n",
      "3 1 2 3\n",
      "1 1 0 0 0\n",
      "0 0 1 0 0\n",
      "0 0 1 0 0\n",
      "0 0 1 0 0\n",
      "0 0 0 0 0\n",
      "4 1 2 5\n",
      "1 1 0 0 0\n",
      "0 0 1 0 1\n",
      "0 0 1 0 1\n",
      "0 0 1 0 1\n",
      "0 0 0 0 1\n"
     ]
    }
   ],
   "source": [
    "W,H = map(int,input().split())\n",
    "N = int(input())\n",
    "List = [[0 for _ in range(W)] for _ in range(H)]\n",
    "for Count in range(N):\n",
    "    \n",
    "    Len, Dir, Y,X = map(int,input().split())\n",
    "    X -=1\n",
    "    Y -=1\n",
    "    if Dir == 0:\n",
    "        for c in range(Len):\n",
    "            List[Y][X+c]=1\n",
    "    elif Dir:\n",
    "        for c in range(Len):\n",
    "            List[Y+c][X]=1\n",
    "for _ in range(len(List)):\n",
    "    print(*List[_])"
   ]
  },
  {
   "cell_type": "code",
   "execution_count": null,
   "metadata": {},
   "outputs": [],
   "source": [
    "W = 10\n",
    "List = [0 for _ in range(W)]\n",
    "print(List)"
   ]
  },
  {
   "cell_type": "code",
   "execution_count": null,
   "metadata": {},
   "outputs": [],
   "source": []
  }
 ],
 "metadata": {
  "kernelspec": {
   "display_name": "Python 3",
   "language": "python",
   "name": "python3"
  },
  "language_info": {
   "codemirror_mode": {
    "name": "ipython",
    "version": 3
   },
   "file_extension": ".py",
   "mimetype": "text/x-python",
   "name": "python",
   "nbconvert_exporter": "python",
   "pygments_lexer": "ipython3",
   "version": "3.7.4"
  }
 },
 "nbformat": 4,
 "nbformat_minor": 2
}
