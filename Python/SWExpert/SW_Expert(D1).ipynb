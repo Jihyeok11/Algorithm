{
 "cells": [
  {
   "cell_type": "markdown",
   "metadata": {},
   "source": [
    "<h1> D1 </h1>"
   ]
  },
  {
   "cell_type": "markdown",
   "metadata": {},
   "source": [
    "<h3> Q. 홀수만 더하기 </h3>\n",
    "https://swexpertacademy.com/main/code/problem/problemDetail.do?contestProbId=AV5QSEhaA5sDFAUq&categoryId=AV5QSEhaA5sDFAUq&categoryType=CODE\n"
   ]
  },
  {
   "cell_type": "code",
   "execution_count": 24,
   "metadata": {
    "scrolled": false
   },
   "outputs": [
    {
     "name": "stdout",
     "output_type": "stream",
     "text": [
      "3\n",
      "3 17 1 39 8 41 2 32 99 2\n",
      "#1 200\n",
      "22 8 5 123 7 2 63 7 3 46\n",
      "#2 208\n",
      "6 63 2 3 58 76 21 33 8 1  \n",
      "#3 121\n"
     ]
    }
   ],
   "source": [
    "T = int(input())\n",
    "for i in range(T):\n",
    "    A = input().split()\n",
    "    A = list(map(int, A))\n",
    "    total=0\n",
    "    for j in range(len(A)):\n",
    "        if A[j]%2 == 1:\n",
    "            total += A[j]\n",
    "    print('#{0} {1}'.format(i+1, total))"
   ]
  },
  {
   "cell_type": "code",
   "execution_count": null,
   "metadata": {},
   "outputs": [],
   "source": [
    "n = int(input())\n",
    "\n",
    "for i in range(1, n+1):\n",
    "    a = list(map(int, input().split()))\n",
    "    sum = 0\n",
    "    for j in a:\n",
    "        if(j % 2 == 1):\n",
    "            sum += j       \n",
    "    print(f'#{i} {sum}')"
   ]
  },
  {
   "cell_type": "markdown",
   "metadata": {},
   "source": [
    "<h3> Q. 평균값 구하기 </h3>\n",
    "https://swexpertacademy.com/main/code/problem/problemDetail.do?contestProbId=AV5QRnJqA5cDFAUq&categoryId=AV5QRnJqA5cDFAUq&categoryType=CODE"
   ]
  },
  {
   "cell_type": "code",
   "execution_count": 34,
   "metadata": {
    "scrolled": true
   },
   "outputs": [
    {
     "name": "stdout",
     "output_type": "stream",
     "text": [
      "1\n",
      "22 8 5 123 7 2 63 7 3 46\n",
      "#1 29\n"
     ]
    }
   ],
   "source": [
    "T = int(input())\n",
    "\n",
    "for i in range(T):\n",
    "    A = list(map(int, input().split()))\n",
    "    total = 0\n",
    "    for j in range(len(A)):\n",
    "        total += A[j]\n",
    "    print(\"#{0} {1}\".format(i+1,round(total/len(A))))"
   ]
  },
  {
   "cell_type": "markdown",
   "metadata": {},
   "source": [
    "<h3> Q. 큰 놈, 작은 놈, 같은 놈 </h3>\n",
    "https://swexpertacademy.com/main/code/problem/problemDetail.do?contestProbId=AV5QQ6qqA40DFAUq&categoryId=AV5QQ6qqA40DFAUq&categoryType=CODE"
   ]
  },
  {
   "cell_type": "code",
   "execution_count": null,
   "metadata": {},
   "outputs": [],
   "source": [
    "T = int(input())\n",
    "for i in range(T):\n",
    "    A = list(map(int, input().split()))\n",
    "    if A[0]>A[1]:\n",
    "        print(\"#{0} >\".format(i+1))\n",
    "    if A[0]<A[1]:\n",
    "        print(\"#{0} <\".format(i+1))\n",
    "    if A[0]==A[1]:\n",
    "        print(\"#{0} =\".format(i+1))"
   ]
  },
  {
   "cell_type": "markdown",
   "metadata": {},
   "source": [
    "<h3> Q 2068)최대수 구하기 </h3>\n",
    "https://swexpertacademy.com/main/code/problem/problemDetail.do?contestProbId=AV5QQhbqA4QDFAUq&categoryId=AV5QQhbqA4QDFAUq&categoryType=CODE"
   ]
  },
  {
   "cell_type": "code",
   "execution_count": null,
   "metadata": {},
   "outputs": [],
   "source": [
    "T = int(input())\n",
    "for i in range(T):\n",
    "    N = list(map(int,input().split(' ')))\n",
    "    print(f\"#{i+1} {max(N)}\")"
   ]
  },
  {
   "cell_type": "markdown",
   "metadata": {},
   "source": [
    "<h3> Q 2063. 중간값 찾기 </h3>\n",
    "https://swexpertacademy.com/main/code/problem/problemDetail.do?contestProbId=AV5QPsXKA2UDFAUq&categoryId=AV5QPsXKA2UDFAUq&categoryType=CODE"
   ]
  },
  {
   "cell_type": "code",
   "execution_count": null,
   "metadata": {},
   "outputs": [],
   "source": [
    "T = int(input())\n",
    "N = list(map(int, input().split(' ')))\n",
    "N = sorted(N)\n",
    "print(N[int(T/2)])"
   ]
  },
  {
   "cell_type": "markdown",
   "metadata": {},
   "source": [
    "<h3> Q 2058. 자릿수 더하기 </h3>\n",
    "https://swexpertacademy.com/main/code/problem/problemDetail.do?contestProbId=AV5QPRjqA10DFAUq&categoryId=AV5QPRjqA10DFAUq&categoryType=CODE"
   ]
  },
  {
   "cell_type": "code",
   "execution_count": 7,
   "metadata": {},
   "outputs": [
    {
     "name": "stdout",
     "output_type": "stream",
     "text": [
      "135\n",
      "9\n"
     ]
    }
   ],
   "source": [
    "T = input()\n",
    "A = 0\n",
    "for i in T:\n",
    "    A += int(i)\n",
    "print(A)"
   ]
  },
  {
   "cell_type": "markdown",
   "metadata": {},
   "source": [
    "<h3> Q 2056. 연월일 달력 </h3>\n",
    "https://swexpertacademy.com/main/code/problem/problemDetail.do?contestProbId=AV5QLkdKAz4DFAUq&categoryId=AV5QLkdKAz4DFAUq&categoryType=CODE"
   ]
  },
  {
   "cell_type": "code",
   "execution_count": 9,
   "metadata": {},
   "outputs": [
    {
     "name": "stdout",
     "output_type": "stream",
     "text": [
      "2\n",
      "22222222\n",
      "-1\n",
      "20200121\n",
      "#2 2020/01/21\n",
      "-1\n"
     ]
    }
   ],
   "source": [
    "T = int(input())\n",
    "for i in range(T):\n",
    "    N = input()\n",
    "    if int(N[4:6])==1:\n",
    "        if int(N[6:])<32:\n",
    "            print(f'#{i+1} {N[0:4]}/{N[4:6]}/{N[6:]}')\n",
    "        else : \n",
    "        \tprint(f'#{i+1} -1')\n",
    "    elif int(N[4:6])==2:\n",
    "        if int(N[6:])<29:\n",
    "            print(f'#{i+1} {N[0:4]}/{N[4:6]}/{N[6:]}')\n",
    "        else : \n",
    "        \tprint(f'#{i+1} -1')\n",
    "    elif int(N[4:6])==3:\n",
    "        if int(N[6:])<32:\n",
    "            print(f'#{i+1} {N[0:4]}/{N[4:6]}/{N[6:]}')\n",
    "        else : \n",
    "        \tprint(f'#{i+1} -1')\n",
    "    elif int(N[4:6])==4:\n",
    "        if int(N[6:])<31:\n",
    "            print(f'#{i+1} {N[0:4]}/{N[4:6]}/{N[6:]}')\n",
    "        else : \n",
    "            print(f'#{i+1} -1')\n",
    "    elif int(N[4:6])==5:\n",
    "        if int(N[6:])<32:\n",
    "            print(f'#{i+1} {N[0:4]}/{N[4:6]}/{N[6:]}')\n",
    "        else : \n",
    "            print(f'#{i+1} -1')\n",
    "    elif int(N[4:6])==6:\n",
    "        if int(N[6:])<31:\n",
    "            print(f'#{i+1} {N[0:4]}/{N[4:6]}/{N[6:]}')\n",
    "        else : \n",
    "            print(f'#{i+1} -1')\n",
    "    elif int(N[4:6])==7:\n",
    "        if int(N[6:])<32:\n",
    "            print(f'#{i+1} {N[0:4]}/{N[4:6]}/{N[6:]}')\n",
    "        else : \n",
    "            print(f'#{i+1} -1')\n",
    "    elif int(N[4:6])==8:\n",
    "        if int(N[6:])<32:\n",
    "            print(f'#{i+1} {N[0:4]}/{N[4:6]}/{N[6:]}')\n",
    "        else : \n",
    "            print(f'#{i+1} -1')\n",
    "    elif int(N[4:6])==9:\n",
    "        if int(N[6:])<31:\n",
    "            print(f'#{i+1} {N[0:4]}/{N[4:6]}/{N[6:]}')\n",
    "        else : \n",
    "            print(f'#{i+1} -1')\n",
    "    elif int(N[4:6])==10:\n",
    "        if int(N[6:])<32:\n",
    "            print(f'#{i+1} {N[0:4]}/{N[4:6]}/{N[6:]}')\n",
    "        else : \n",
    "            print(f'#{i+1} -1')\n",
    "    elif int(N[4:6])==11:\n",
    "        if int(N[6:])<31:\n",
    "            print(f'#{i+1} {N[0:4]}/{N[4:6]}/{N[6:]}')\n",
    "        else : \n",
    "            print(f'#{i+1} -1')\n",
    "    elif int(N[4:6])==12:\n",
    "        if int(N[6:])<32:\n",
    "            print(f'#{i+1} {N[0:4]}/{N[4:6]}/{N[6:]}')\n",
    "        else : \n",
    "            print(f'#{i+1} -1')\n",
    "    else : \n",
    "        print(f'#{i+1} -1')"
   ]
  },
  {
   "cell_type": "markdown",
   "metadata": {},
   "source": [
    "<h3> Q 2050. 알파벳을 숫자로 변환 </h3>\n",
    "https://swexpertacademy.com/main/code/problem/problemDetail.do?contestProbId=AV5QLGxKAzQDFAUq&categoryId=AV5QLGxKAzQDFAUq&categoryType=CODE"
   ]
  },
  {
   "cell_type": "code",
   "execution_count": 10,
   "metadata": {},
   "outputs": [
    {
     "name": "stdout",
     "output_type": "stream",
     "text": [
      "a b c d e\n",
      "['a', 'b', 'c', 'd', 'e']\n"
     ]
    }
   ],
   "source": [
    "alpha = list(input().split())\n",
    "for i in range(len(alpha)):\n",
    "    print(ord(i),)"
   ]
  },
  {
   "cell_type": "code",
   "execution_count": null,
   "metadata": {},
   "outputs": [],
   "source": []
  }
 ],
 "metadata": {
  "kernelspec": {
   "display_name": "Python 3",
   "language": "python",
   "name": "python3"
  },
  "language_info": {
   "codemirror_mode": {
    "name": "ipython",
    "version": 3
   },
   "file_extension": ".py",
   "mimetype": "text/x-python",
   "name": "python",
   "nbconvert_exporter": "python",
   "pygments_lexer": "ipython3",
   "version": "3.7.3"
  }
 },
 "nbformat": 4,
 "nbformat_minor": 4
}
