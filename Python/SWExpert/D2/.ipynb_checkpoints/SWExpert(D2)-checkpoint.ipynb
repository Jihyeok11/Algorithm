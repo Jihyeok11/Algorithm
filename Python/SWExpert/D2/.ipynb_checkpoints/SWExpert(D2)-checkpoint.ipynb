{
 "cells": [
  {
   "cell_type": "markdown",
   "metadata": {},
   "source": [
    "## Q 1859. 백만 장자 프로젝트\n",
    "https://swexpertacademy.com/main/code/problem/problemDetail.do?conteastProbId=AV5LrsUaDxcDFAXc&categoryId=AV5LrsUaDxcDFAXc&categoryType=CODE\n"
   ]
  },
  {
   "cell_type": "code",
   "execution_count": null,
   "metadata": {},
   "outputs": [],
   "source": [
    "T = int(input())\n",
    "for count in range(T):\n",
    "    total = 0\n",
    "    day = int(input())\n",
    "    prices = list(map(int, input().split()))\n",
    "    Max_price = prices[-1]\n",
    "    for price in range(len(prices)-1,-1,-1):\n",
    "        if Max_price < prices[price]:\n",
    "            Max_price = prices[price]\n",
    "        elif Max_price > prices[price]:\n",
    "            total += Max_price - prices[price]\n",
    "    print(\"#{0} {1}\".format(count+1, total))"
   ]
  },
  {
   "cell_type": "markdown",
   "metadata": {},
   "source": [
    "## Q 1926. 간단한 369게임 \n",
    "https://swexpertacademy.com/main/code/problem/problemDetail.do?contestProbId=AV5PTeo6AHUDFAUq&categoryId=AV5PTeo6AHUDFAUq&categoryType=CODE"
   ]
  },
  {
   "cell_type": "code",
   "execution_count": null,
   "metadata": {},
   "outputs": [],
   "source": [
    "N = int(input())\n",
    "for i in range(1,N+1):\n",
    "    C = 0\n",
    "    if int(i/100)==3 or int(i/100)==6 or int(i/100)==9:\n",
    "        C += 1\n",
    "        if int(i/10)==3 or int(i/10)==6 or int(i/10)==9:\n",
    "            C+= 1\n",
    "            if int(i%10)==3 or int(i%10)==6 or int(i%10)==9:\n",
    "                C+=1\n",
    "                print('-'*C,end=' ')\n",
    "            else :\n",
    "                print('-'*C,end=' ')\n",
    "        else : \n",
    "            print('-'*c,end=' ')\n",
    "    elif int(i/10)==3 or int(i/10)==6 or int(i/10)==9:\n",
    "        C+= 1\n",
    "        if int(i%10)==3 or int(i%10)==6 or int(i%10)==9:\n",
    "            C+=1\n",
    "            print('-'*C,end=' ')\n",
    "        else :\n",
    "            print('-'*C,end=' ')\n",
    "    elif int(i%10)==3 or int(i%10)==6 or int(i%10)==9:\n",
    "        C+=1\n",
    "        print('-'*C,end=' ')\n",
    "    else :\n",
    "        print(i,end=' ')"
   ]
  },
  {
   "cell_type": "markdown",
   "metadata": {},
   "source": [
    "## Q 2007. 패턴 마디의 길이\n",
    "https://swexpertacademy.com/main/code/problem/problemDetail.do?contestProbId=AV5P1kNKAl8DFAUq&categoryId=AV5P1kNKAl8DFAUq&categoryType=CODE"
   ]
  },
  {
   "cell_type": "code",
   "execution_count": null,
   "metadata": {},
   "outputs": [],
   "source": [
    "List = []               \n",
    "Max_Str = 1\n",
    "for i in range(len(Str)):\n",
    "    for j in range(i+1,len(Str)-i-1):\n",
    "        if Str[i]== Str[j]:\n",
    "            Str[j]\n",
    "            Max_Str = 1\n",
    "            List.append(Max_Str)\n",
    "            for k in range(1,len(Str)-j):\n",
    "                if Str[i+k]==Str[j+k]:\n",
    "                    Max_Str += 1\n",
    "                    List.append(Max_Str)\n",
    "                    pass\n",
    "                    "
   ]
  },
  {
   "cell_type": "markdown",
   "metadata": {},
   "source": [
    "#### 반복되는 문장을 찾음 슈바"
   ]
  },
  {
   "cell_type": "code",
   "execution_count": null,
   "metadata": {},
   "outputs": [],
   "source": [
    "T = int(input())\n",
    "for count in range(T):\n",
    "    Str = input()\n",
    "    for i in range(30):\n",
    "        for j in range(1,30):\n",
    "            if Str[i] == Str[j]:\n",
    "                STR = (Str[:j])*30\n",
    "                S30 = STR[:30]\n",
    "                if S30 == Str:\n",
    "                    print('#{0} {1}'.format(count+1, j))\n",
    "                    break\n",
    "        break"
   ]
  },
  {
   "cell_type": "markdown",
   "metadata": {},
   "source": [
    "## Q 2005. 파스칼의 삼각형\n",
    "https://swexpertacademy.com/main/code/problem/problemDetail.do?contestProbId=AV5P0-h6Ak4DFAUq&categoryId=AV5P0-h6Ak4DFAUq&categoryType=CODE"
   ]
  },
  {
   "cell_type": "markdown",
   "metadata": {},
   "source": [
    "#### 이용 : print(\" \".join(map(str, num_list)))"
   ]
  },
  {
   "cell_type": "code",
   "execution_count": null,
   "metadata": {},
   "outputs": [],
   "source": [
    "T = int(input())\n",
    "for count in range(T):\n",
    "    N = int(input())\n",
    "    print(\"#{0}\".format(count+1))\n",
    "    for N in range(1,N+1):\n",
    "        List =[1]*N\n",
    "        if N >= 3:\n",
    "            for Pa_Num in range(1,len(List)-1):\n",
    "                List[Pa_Num] = Last_List[Pa_Num-1]+Last_List[Pa_Num]\n",
    "            pass\n",
    "        Last_List = List\n",
    "        print(\" \".join(map(str,List)))"
   ]
  },
  {
   "cell_type": "markdown",
   "metadata": {},
   "source": [
    "## Q 2001. 파리 퇴치\n",
    "https://swexpertacademy.com/main/code/problem/problemDetail.do?contestProbId=AV5PzOCKAigDFAUq&categoryId=AV5PzOCKAigDFAUq&categoryType=CODE"
   ]
  },
  {
   "cell_type": "markdown",
   "metadata": {},
   "source": [
    "1 3 3 6 7<br>\n",
    "8 13 9 12 8<br>\n",
    "4 16 11 12 6<br>\n",
    "2 4 1 23 2<br>\n",
    "9 13 4 7 3</br>"
   ]
  },
  {
   "cell_type": "markdown",
   "metadata": {},
   "source": [
    "## Q 2001. 파리 퇴치\n",
    "https://swexpertacademy.com/main/code/problem/problemDetail.do?contestProbId=AV5PzOCKAigDFAUq&categoryId=AV5PzOCKAigDFAUq&categoryType=CODE"
   ]
  },
  {
   "cell_type": "code",
   "execution_count": null,
   "metadata": {},
   "outputs": [],
   "source": [
    "T = int(input())\n",
    "for count in range(T):\n",
    "    N,M = map(int,input().split())\n",
    "    List = [0]*N\n",
    "    LIST=[]\n",
    "    for i in range(N):\n",
    "        List[i] = list(map(int,input().split()))\n",
    "    for idx_x in range(0,N-M+1): #x는 0부터 N-M+1까지 (0,4)\n",
    "        for idx_y in range(0,N-M+1):\n",
    "            A=0\n",
    "            for c in range(M):\n",
    "                for d in range(M):\n",
    "                    A +=List[idx_x+c][idx_y+d]\n",
    "            \n",
    "            LIST.append(A)\n",
    "    print(\"#{0} {1}\".format(count+1,max(LIST)))"
   ]
  },
  {
   "cell_type": "markdown",
   "metadata": {},
   "source": [
    "## Q 1989. 초심자의 회문 검사\n",
    "https://swexpertacademy.com/main/code/problem/problemDetail.do?contestProbId=AV5PyTLqAf4DFAUq&categoryId=AV5PyTLqAf4DFAUq&categoryType=CODE"
   ]
  },
  {
   "cell_type": "code",
   "execution_count": null,
   "metadata": {},
   "outputs": [],
   "source": [
    "T = int(input())\n",
    "for count in range(T):\n",
    "    Str = input()\n",
    "    A = 0\n",
    "    if Str == Str[::-1]:\n",
    "        A = 1\n",
    "    print(\"#{0} {1}\".format(count+1, A))"
   ]
  },
  {
   "cell_type": "markdown",
   "metadata": {},
   "source": [
    "## Q 1986. 지그재그 숫자\n",
    "https://swexpertacademy.com/main/code/problem/problemDetail.do?contestProbId=AV5PxmBqAe8DFAUq&categoryId=AV5PxmBqAe8DFAUq&categoryType=CODE"
   ]
  },
  {
   "cell_type": "code",
   "execution_count": null,
   "metadata": {},
   "outputs": [],
   "source": [
    "T = int(input())\n",
    "for count in range(T):\n",
    "    N = int(input())\n",
    "    A = 0\n",
    "    for i in range(N):\n",
    "   \t     A += ((-1)**i)*(i+1)\n",
    "    print(\"#{0} {1}\".format(count+1,A))"
   ]
  },
  {
   "cell_type": "markdown",
   "metadata": {},
   "source": [
    "## Q 1984. 중간 평균값 구하기`\n",
    "https://swexpertacademy.com/main/code/problem/problemDetail.do?contestProbId=AV5Pw_-KAdcDFAUq&categoryId=AV5Pw_-KAdcDFAUq&categoryType=CODE"
   ]
  },
  {
   "cell_type": "code",
   "execution_count": null,
   "metadata": {},
   "outputs": [],
   "source": [
    "T = int(input())\n",
    "for count in range(T):\n",
    "    STR = list(map(int, input().split()))\n",
    "    del STR[STR.index(max(STR))]\n",
    "    del STR[STR.index(min(STR))]\n",
    "    total = 0\n",
    "    for i in STR:\n",
    "        total += i\n",
    "    print(\"#{0} {1}\".format(count+1, round(total/len(STR))))"
   ]
  },
  {
   "cell_type": "markdown",
   "metadata": {},
   "source": [
    "## Q 1983. 조교의 성적 매기기\n",
    "https://swexpertacademy.com/main/code/problem/problemDetail.do?contestProbId=AV5PwGK6AcIDFAUq&categoryId=AV5PwGK6AcIDFAUq&categoryType=CODE"
   ]
  },
  {
   "cell_type": "code",
   "execution_count": null,
   "metadata": {},
   "outputs": [],
   "source": [
    "T = int(input())\n",
    "for count in range(T):\n",
    "    List = []\n",
    "    N,K = map(int, input().split(' '))\n",
    "    for i in range(N):\n",
    "        score = 0\n",
    "        Mid, Fin, Ass = map(int,input().split(' '))\n",
    "        score = Mid*35+Fin*45+Ass*20\n",
    "        List.append(score)\n",
    "    A = List[K-1] #A는 K학생의 결과값\n",
    "    List = sorted(List)\n",
    "    idx = List.index(A) #idx는 K학생의 등수\n",
    "    if int(idx*10/N) == 9:\n",
    "        print('#{0} A+'.format(count+1))\n",
    "    elif int(idx*10/N) == 8:\n",
    "        print('#{0} A0'.format(count+1))\n",
    "    elif int(idx*10/N) == 7:\n",
    "        print('#{0} A-'.format(count+1))\n",
    "    elif int(idx*10/N) == 6:\n",
    "        print('#{0} B+'.format(count+1))\n",
    "    elif int(idx*10/N) == 5:\n",
    "        print('#{0} B0'.format(count+1))\n",
    "    elif int(idx*10/N) == 4:\n",
    "        print('#{0} B-'.format(count+1))\n",
    "    elif int(idx*10/N) == 3:\n",
    "        print('#{0} C+'.format(count+1))\n",
    "    elif int(idx*10/N) == 2:\n",
    "        print('#{0} C0'.format(count+1))\n",
    "    elif int(idx*10/N) == 1:\n",
    "        print('#{0} C-'.format(count+1))\n",
    "    elif int(idx*10/N) == 0:\n",
    "        print('#{0} D0'.format(count+1))"
   ]
  },
  {
   "cell_type": "markdown",
   "metadata": {},
   "source": [
    "## Q 1979. 어디에 단어가 들어갈 수 있을까\n",
    "https://swexpertacademy.com/main/code/problem/problemDetail.do?contestProbId=AV5PuPq6AaQDFAUq&categoryId=AV5PuPq6AaQDFAUq&categoryType=CODE"
   ]
  },
  {
   "cell_type": "code",
   "execution_count": 16,
   "metadata": {},
   "outputs": [
    {
     "name": "stdout",
     "output_type": "stream",
     "text": [
      "1\n",
      "3 5\n",
      "1 2 3 4 5\n",
      "1 2 33 4 5\n",
      "1 2 3 41 \n",
      "#1 0\n"
     ]
    }
   ],
   "source": [
    "T = int(input())\n",
    "\n",
    "for count in range(T): #T번 count\n",
    "    N, K = map(int, input().split())\n",
    "    Answer=0\n",
    "    List = [list(map(int,input().split())) for x in range(N)]\n",
    "    \n",
    "    \n",
    "    for i in range(N):#N개 중에서\n",
    "        Counts = 0\n",
    "        Answer_Listx = []\n",
    "        for j in range(N):\n",
    "            \n",
    "            if List[i][j]==0:\n",
    "                if Counts == 0:\n",
    "                    Answer_Listx.append(0)\n",
    "                else :\n",
    "                    Answer_Listx.append(Counts)\n",
    "                    Answer_Listx.append(0)\n",
    "                    Counts=0\n",
    "            elif j==N-1:\n",
    "                if List[i][j]==1:\n",
    "                    Counts += 1\n",
    "                    Answer_Listx.append(Counts)\n",
    "            elif List[i][j]==1:\n",
    "                Counts += 1\n",
    "        for i in Answer_Listx:\n",
    "            if i==K:\n",
    "                Answer += 1\n",
    "        \n",
    "    \n",
    "    for i in range(N):\n",
    "        Answer_Listy = []\n",
    "        Counts=0\n",
    "        for j in range(N): #N개의 칸중에서 (가로)\n",
    "            if List[j][i]==0:\n",
    "                if Counts ==0:\n",
    "                    Answer_Listy.append(0)\n",
    "                else :\n",
    "                    Answer_Listy.append(Counts)\n",
    "                    Answer_Listy.append(0)\n",
    "                    Counts=0\n",
    "            elif j==N-1:\n",
    "                if List[j][i]==1:\n",
    "                    Counts += 1\n",
    "                    Answer_Listy.append(Counts)\n",
    "            elif List[j][i]==1:\n",
    "                Counts += 1\n",
    "        for i in Answer_Listy:\n",
    "            if i==K:\n",
    "                Answer += 1\n",
    "   \n",
    "    print(\"#{0} {1}\".format(count+1, Answer))"
   ]
  },
  {
   "cell_type": "markdown",
   "metadata": {},
   "source": [
    "### 다른사람의 풀이"
   ]
  },
  {
   "cell_type": "code",
   "execution_count": 1,
   "metadata": {},
   "outputs": [
    {
     "name": "stdout",
     "output_type": "stream",
     "text": [
      "1\n",
      "5 3\n",
      "h\n"
     ]
    },
    {
     "ename": "ValueError",
     "evalue": "invalid literal for int() with base 10: 'h'",
     "output_type": "error",
     "traceback": [
      "\u001b[1;31m---------------------------------------------------------------------------\u001b[0m",
      "\u001b[1;31mValueError\u001b[0m                                Traceback (most recent call last)",
      "\u001b[1;32m<ipython-input-1-15aeab08a156>\u001b[0m in \u001b[0;36m<module>\u001b[1;34m\u001b[0m\n\u001b[0;32m     20\u001b[0m \u001b[1;32mfor\u001b[0m \u001b[0mts\u001b[0m \u001b[1;32min\u001b[0m \u001b[0mrange\u001b[0m\u001b[1;33m(\u001b[0m\u001b[1;36m1\u001b[0m\u001b[1;33m,\u001b[0m\u001b[0mT\u001b[0m\u001b[1;33m+\u001b[0m\u001b[1;36m1\u001b[0m\u001b[1;33m)\u001b[0m\u001b[1;33m:\u001b[0m\u001b[1;33m\u001b[0m\u001b[1;33m\u001b[0m\u001b[0m\n\u001b[0;32m     21\u001b[0m     \u001b[0mN\u001b[0m\u001b[1;33m,\u001b[0m\u001b[0mK\u001b[0m \u001b[1;33m=\u001b[0m \u001b[0mlist\u001b[0m\u001b[1;33m(\u001b[0m\u001b[0mmap\u001b[0m\u001b[1;33m(\u001b[0m\u001b[0mint\u001b[0m\u001b[1;33m,\u001b[0m \u001b[0minput\u001b[0m\u001b[1;33m(\u001b[0m\u001b[1;33m)\u001b[0m\u001b[1;33m.\u001b[0m\u001b[0msplit\u001b[0m\u001b[1;33m(\u001b[0m\u001b[1;33m)\u001b[0m\u001b[1;33m)\u001b[0m\u001b[1;33m)\u001b[0m\u001b[1;33m\u001b[0m\u001b[1;33m\u001b[0m\u001b[0m\n\u001b[1;32m---> 22\u001b[1;33m     \u001b[0mpuzzle\u001b[0m \u001b[1;33m=\u001b[0m \u001b[1;33m[\u001b[0m\u001b[0mlist\u001b[0m\u001b[1;33m(\u001b[0m\u001b[0mmap\u001b[0m\u001b[1;33m(\u001b[0m\u001b[0mint\u001b[0m\u001b[1;33m,\u001b[0m \u001b[0minput\u001b[0m\u001b[1;33m(\u001b[0m\u001b[1;33m)\u001b[0m\u001b[1;33m.\u001b[0m\u001b[0msplit\u001b[0m\u001b[1;33m(\u001b[0m\u001b[1;33m)\u001b[0m\u001b[1;33m)\u001b[0m\u001b[1;33m)\u001b[0m \u001b[1;32mfor\u001b[0m \u001b[0m_\u001b[0m \u001b[1;32min\u001b[0m \u001b[0mrange\u001b[0m\u001b[1;33m(\u001b[0m\u001b[0mN\u001b[0m\u001b[1;33m)\u001b[0m\u001b[1;33m]\u001b[0m\u001b[1;33m\u001b[0m\u001b[1;33m\u001b[0m\u001b[0m\n\u001b[0m\u001b[0;32m     23\u001b[0m     \u001b[0mverti\u001b[0m \u001b[1;33m=\u001b[0m \u001b[1;33m[\u001b[0m\u001b[1;33m]\u001b[0m\u001b[1;33m\u001b[0m\u001b[1;33m\u001b[0m\u001b[0m\n\u001b[0;32m     24\u001b[0m     \u001b[1;32mfor\u001b[0m \u001b[0mi\u001b[0m \u001b[1;32min\u001b[0m \u001b[0mrange\u001b[0m\u001b[1;33m(\u001b[0m\u001b[0mN\u001b[0m\u001b[1;33m)\u001b[0m\u001b[1;33m:\u001b[0m\u001b[1;33m\u001b[0m\u001b[1;33m\u001b[0m\u001b[0m\n",
      "\u001b[1;32m<ipython-input-1-15aeab08a156>\u001b[0m in \u001b[0;36m<listcomp>\u001b[1;34m(.0)\u001b[0m\n\u001b[0;32m     20\u001b[0m \u001b[1;32mfor\u001b[0m \u001b[0mts\u001b[0m \u001b[1;32min\u001b[0m \u001b[0mrange\u001b[0m\u001b[1;33m(\u001b[0m\u001b[1;36m1\u001b[0m\u001b[1;33m,\u001b[0m\u001b[0mT\u001b[0m\u001b[1;33m+\u001b[0m\u001b[1;36m1\u001b[0m\u001b[1;33m)\u001b[0m\u001b[1;33m:\u001b[0m\u001b[1;33m\u001b[0m\u001b[1;33m\u001b[0m\u001b[0m\n\u001b[0;32m     21\u001b[0m     \u001b[0mN\u001b[0m\u001b[1;33m,\u001b[0m\u001b[0mK\u001b[0m \u001b[1;33m=\u001b[0m \u001b[0mlist\u001b[0m\u001b[1;33m(\u001b[0m\u001b[0mmap\u001b[0m\u001b[1;33m(\u001b[0m\u001b[0mint\u001b[0m\u001b[1;33m,\u001b[0m \u001b[0minput\u001b[0m\u001b[1;33m(\u001b[0m\u001b[1;33m)\u001b[0m\u001b[1;33m.\u001b[0m\u001b[0msplit\u001b[0m\u001b[1;33m(\u001b[0m\u001b[1;33m)\u001b[0m\u001b[1;33m)\u001b[0m\u001b[1;33m)\u001b[0m\u001b[1;33m\u001b[0m\u001b[1;33m\u001b[0m\u001b[0m\n\u001b[1;32m---> 22\u001b[1;33m     \u001b[0mpuzzle\u001b[0m \u001b[1;33m=\u001b[0m \u001b[1;33m[\u001b[0m\u001b[0mlist\u001b[0m\u001b[1;33m(\u001b[0m\u001b[0mmap\u001b[0m\u001b[1;33m(\u001b[0m\u001b[0mint\u001b[0m\u001b[1;33m,\u001b[0m \u001b[0minput\u001b[0m\u001b[1;33m(\u001b[0m\u001b[1;33m)\u001b[0m\u001b[1;33m.\u001b[0m\u001b[0msplit\u001b[0m\u001b[1;33m(\u001b[0m\u001b[1;33m)\u001b[0m\u001b[1;33m)\u001b[0m\u001b[1;33m)\u001b[0m \u001b[1;32mfor\u001b[0m \u001b[0m_\u001b[0m \u001b[1;32min\u001b[0m \u001b[0mrange\u001b[0m\u001b[1;33m(\u001b[0m\u001b[0mN\u001b[0m\u001b[1;33m)\u001b[0m\u001b[1;33m]\u001b[0m\u001b[1;33m\u001b[0m\u001b[1;33m\u001b[0m\u001b[0m\n\u001b[0m\u001b[0;32m     23\u001b[0m     \u001b[0mverti\u001b[0m \u001b[1;33m=\u001b[0m \u001b[1;33m[\u001b[0m\u001b[1;33m]\u001b[0m\u001b[1;33m\u001b[0m\u001b[1;33m\u001b[0m\u001b[0m\n\u001b[0;32m     24\u001b[0m     \u001b[1;32mfor\u001b[0m \u001b[0mi\u001b[0m \u001b[1;32min\u001b[0m \u001b[0mrange\u001b[0m\u001b[1;33m(\u001b[0m\u001b[0mN\u001b[0m\u001b[1;33m)\u001b[0m\u001b[1;33m:\u001b[0m\u001b[1;33m\u001b[0m\u001b[1;33m\u001b[0m\u001b[0m\n",
      "\u001b[1;31mValueError\u001b[0m: invalid literal for int() with base 10: 'h'"
     ]
    }
   ],
   "source": [
    "import sys\n",
    "sys.stdin = open(\"어디단어in.txt\",\"r\")\n",
    "\n",
    "def p_count(x):\n",
    "    global count\n",
    "    for i in range(N):\n",
    "        nums=[]\n",
    "        for j in range(N-K+1):\n",
    "            if j==0:\n",
    "                nums.append(x[i][0:K])\n",
    "            elif x[i][j:K+j] == x[i][j-1:K+j-1] == [1]*K:\n",
    "                nums[-1]=[0]*K\n",
    "                nums.append([0]*K)\n",
    "            else :\n",
    "                nums.append(x[i][j:K+j])\n",
    "        count += nums.count([1] *K)\n",
    "    return count\n",
    "\n",
    "T = int(input())\n",
    "for ts in range(1,T+1):\n",
    "    N,K = list(map(int, input().split()))\n",
    "    puzzle = [list(map(int, input().split())) for _ in range(N)]\n",
    "    verti = []\n",
    "    for i in range(N):\n",
    "        a = [puzzle[j][i] for j in range(N)]\n",
    "        verti.append(a)\n",
    "    count = 0\n",
    "    p_count(puzzle)\n",
    "    p_count(verti)\n",
    "    print(\"#{0} {1}\".format(ts, count))"
   ]
  },
  {
   "cell_type": "markdown",
   "metadata": {},
   "source": [
    "## Q 1976. 시각 덧셈\n",
    "https://swexpertacademy.com/main/code/problem/problemDetail.do?contestProbId=AV5PttaaAZIDFAUq&categoryId=AV5PttaaAZIDFAUq&categoryType=CODE"
   ]
  },
  {
   "cell_type": "code",
   "execution_count": null,
   "metadata": {},
   "outputs": [],
   "source": [
    "#T = int(input())\n",
    "T = 1\n",
    "for count in range(T):\n",
    "    T1,M1,T2,M2 = int(input().split())\n",
    "    Total_M = (M1+M2)%60\n",
    "    Total_T = (T1+T2)%12+(M1+M2)/60\n",
    "    \n",
    "    \n",
    "    "
   ]
  },
  {
   "cell_type": "markdown",
   "metadata": {},
   "source": [
    "## Q 1976. 시각 덧셈\n",
    "https://swexpertacademy.com/main/code/problem/problemDetail.do?contestProbId=AV5PttaaAZIDFAUq&categoryId=AV5PttaaAZIDFAUq&categoryType=CODE"
   ]
  },
  {
   "cell_type": "code",
   "execution_count": null,
   "metadata": {},
   "outputs": [],
   "source": []
  },
  {
   "cell_type": "markdown",
   "metadata": {},
   "source": [
    "## Q 1976. 시각 덧셈\n",
    "https://swexpertacademy.com/main/code/problem/problemDetail.do?contestProbId=AV5PttaaAZIDFAUq&categoryId=AV5PttaaAZIDFAUq&categoryType=CODE"
   ]
  },
  {
   "cell_type": "code",
   "execution_count": null,
   "metadata": {},
   "outputs": [],
   "source": []
  },
  {
   "cell_type": "markdown",
   "metadata": {},
   "source": [
    "## Q 1976. 시각 덧셈\n",
    "https://swexpertacademy.com/main/code/problem/problemDetail.do?contestProbId=AV5PttaaAZIDFAUq&categoryId=AV5PttaaAZIDFAUq&categoryType=CODE"
   ]
  },
  {
   "cell_type": "code",
   "execution_count": null,
   "metadata": {},
   "outputs": [],
   "source": []
  },
  {
   "cell_type": "markdown",
   "metadata": {},
   "source": [
    "## Q 1976. 시각 덧셈\n",
    "https://swexpertacademy.com/main/code/problem/problemDetail.do?contestProbId=AV5PttaaAZIDFAUq&categoryId=AV5PttaaAZIDFAUq&categoryType=CODE"
   ]
  },
  {
   "cell_type": "code",
   "execution_count": null,
   "metadata": {},
   "outputs": [],
   "source": []
  },
  {
   "cell_type": "markdown",
   "metadata": {},
   "source": [
    "## Q 1976. 시각 덧셈\n",
    "https://swexpertacademy.com/main/code/problem/problemDetail.do?contestProbId=AV5PttaaAZIDFAUq&categoryId=AV5PttaaAZIDFAUq&categoryType=CODE"
   ]
  },
  {
   "cell_type": "code",
   "execution_count": null,
   "metadata": {},
   "outputs": [],
   "source": []
  },
  {
   "cell_type": "markdown",
   "metadata": {},
   "source": [
    "## Q 1976. 시각 덧셈\n",
    "https://swexpertacademy.com/main/code/problem/problemDetail.do?contestProbId=AV5PttaaAZIDFAUq&categoryId=AV5PttaaAZIDFAUq&categoryType=CODE"
   ]
  },
  {
   "cell_type": "code",
   "execution_count": null,
   "metadata": {},
   "outputs": [],
   "source": []
  },
  {
   "cell_type": "markdown",
   "metadata": {},
   "source": [
    "## Q 1976. 시각 덧셈\n",
    "https://swexpertacademy.com/main/code/problem/problemDetail.do?contestProbId=AV5PttaaAZIDFAUq&categoryId=AV5PttaaAZIDFAUq&categoryType=CODE"
   ]
  },
  {
   "cell_type": "code",
   "execution_count": null,
   "metadata": {},
   "outputs": [],
   "source": []
  },
  {
   "cell_type": "code",
   "execution_count": null,
   "metadata": {},
   "outputs": [],
   "source": []
  },
  {
   "cell_type": "code",
   "execution_count": null,
   "metadata": {},
   "outputs": [],
   "source": []
  },
  {
   "cell_type": "code",
   "execution_count": null,
   "metadata": {},
   "outputs": [],
   "source": []
  },
  {
   "cell_type": "code",
   "execution_count": null,
   "metadata": {},
   "outputs": [],
   "source": []
  }
 ],
 "metadata": {
  "kernelspec": {
   "display_name": "Python 3",
   "language": "python",
   "name": "python3"
  },
  "language_info": {
   "codemirror_mode": {
    "name": "ipython",
    "version": 3
   },
   "file_extension": ".py",
   "mimetype": "text/x-python",
   "name": "python",
   "nbconvert_exporter": "python",
   "pygments_lexer": "ipython3",
   "version": "3.7.3"
  }
 },
 "nbformat": 4,
 "nbformat_minor": 2
}
